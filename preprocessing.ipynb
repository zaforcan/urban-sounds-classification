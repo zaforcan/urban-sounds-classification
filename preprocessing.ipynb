{
  "nbformat": 4,
  "nbformat_minor": 0,
  "metadata": {
    "colab": {
      "provenance": [],
      "collapsed_sections": [],
      "authorship_tag": "ABX9TyP+z28dXojAU6r+gkvkSpdb",
      "include_colab_link": true
    },
    "kernelspec": {
      "name": "python3",
      "display_name": "Python 3"
    },
    "language_info": {
      "name": "python"
    }
  },
  "cells": [
    {
      "cell_type": "markdown",
      "metadata": {
        "id": "view-in-github",
        "colab_type": "text"
      },
      "source": [
        "<a href=\"https://colab.research.google.com/github/zaforcan/urban-sounds-classification/blob/main/preprocessing.ipynb\" target=\"_parent\"><img src=\"https://colab.research.google.com/assets/colab-badge.svg\" alt=\"Open In Colab\"/></a>"
      ]
    },
    {
      "cell_type": "code",
      "execution_count": null,
      "metadata": {
        "id": "pkLPdVKNXegK"
      },
      "outputs": [],
      "source": [
        "import os\n",
        "import matplotlib.pyplot as plt\n",
        "import cv2\n",
        "import pandas as pd\n",
        "import numpy as np\n",
        "\n",
        "from sklearn.model_selection import train_test_split"
      ]
    },
    {
      "cell_type": "code",
      "source": [
        "from google.colab import drive\n",
        "drive.mount('/content/drive')"
      ],
      "metadata": {
        "colab": {
          "base_uri": "https://localhost:8080/"
        },
        "id": "2-4G99IBXunf",
        "outputId": "3c6d8fc4-f91a-4ba1-ece7-eeb60076ff57"
      },
      "execution_count": null,
      "outputs": [
        {
          "output_type": "stream",
          "name": "stdout",
          "text": [
            "Mounted at /content/drive\n"
          ]
        }
      ]
    },
    {
      "cell_type": "code",
      "source": [
        "directory = \"/content/drive/MyDrive/spectrograms\"\n",
        "\n",
        "#  https://drive.google.com/drive/folders/1xey3vAVNDjWxnSfhuUsf_5dGANZWmCog?usp=sharing  \n",
        "\n",
        "# Bu linkteki spectograms klasörünü kendi drive'ınıza kısayol olarak oluşturabilirsiniz."
      ],
      "metadata": {
        "id": "RmDRz5wLXysO"
      },
      "execution_count": null,
      "outputs": []
    },
    {
      "cell_type": "code",
      "source": [
        "categories = [0,1,2,3,4,5,6,7,8,9]\n",
        "\n",
        "# 0 = air_conditioner\n",
        "# 1 = car_horn\n",
        "# 2 = children_playing\n",
        "# 3 = dog_bark\n",
        "# 4 = drilling\n",
        "# 5 = engine_idling\n",
        "# 6 = gun_shot\n",
        "# 7 = jackhammer\n",
        "# 8 = siren\n",
        "# 9 = street_music\n",
        "\n",
        "# X ve y isminde boş iki liste oluşturalım\n",
        "\n",
        "X = []\n",
        "y = []\n",
        "    \n",
        "# Tüm klasörlerdeki görüntü dosyalarının bilgilerini ve hangi sınıfa ait olduklarını bu iki listeye gönderelim\n",
        "\n",
        "for category in categories:    \n",
        "    path = os.path.join(directory, str(category))            \n",
        "    for img in os.listdir(path):\n",
        "        img_array = cv2.imread(os.path.join(path,img), cv2.IMREAD_GRAYSCALE)    #Görüntülerin okunması ve grayscale dönüşümü\n",
        "        IMG_SIZE = 32\n",
        "        img_array = cv2.resize(img_array, (IMG_SIZE, IMG_SIZE))        # Görüntü boyutunun 50*50 olarak ayarlanması\n",
        "        img_array = img_array / 255     # Görüntü verilerimiz (0-255) aralığında, bu yüzden 255'e bölerek hepsinin 0-1 aralığına gelmesini sağladık\n",
        "        X.append(img_array)    # X listesine görüntü bilgileri ekleniyor\n",
        "        y.append(category)     # y listesine etiket (görüntünün hangi sınıfa ait olduğu bilgisi) ekleniyor"
      ],
      "metadata": {
        "id": "C_-3Nt9aX-24"
      },
      "execution_count": null,
      "outputs": []
    },
    {
      "cell_type": "code",
      "source": [
        "# X ve y listelerinin numpy array'e dönüşümü. \n",
        "\n",
        "X = np.array(X).reshape(-1, IMG_SIZE, IMG_SIZE, 1)\n",
        "y = np.array(y)"
      ],
      "metadata": {
        "id": "h-0vXGS8YDdH"
      },
      "execution_count": null,
      "outputs": []
    },
    {
      "cell_type": "code",
      "source": [
        "# Verilerin Train, Validation ve Test olarak ayrılması\n",
        "\n",
        "X_train, X_temporary, y_train, y_temporary = train_test_split(X, y, train_size=0.8, random_state=42)\n",
        "\n",
        "X_val, X_test, y_val, y_test = train_test_split(X_temporary, y_temporary, train_size=0.5, random_state=42)"
      ],
      "metadata": {
        "id": "MOdAtvxHYHxv"
      },
      "execution_count": null,
      "outputs": []
    },
    {
      "cell_type": "code",
      "source": [
        "#Veri seti uzunluklarının incelenmesi\n",
        "print(len(X_train))\n",
        "print(len(X_val))\n",
        "print(len(X_test))"
      ],
      "metadata": {
        "colab": {
          "base_uri": "https://localhost:8080/"
        },
        "id": "kk1zg6xJYOjX",
        "outputId": "f4052d56-d2f3-46a5-bdd0-054340d1f8ab"
      },
      "execution_count": null,
      "outputs": [
        {
          "output_type": "stream",
          "name": "stdout",
          "text": [
            "6985\n",
            "873\n",
            "874\n"
          ]
        }
      ]
    },
    {
      "cell_type": "code",
      "source": [
        "#Oluşturduğumuz veri setlerinin kaydedilmesi\n",
        "\n",
        "np.save('X_train.npy', X_train)\n",
        "np.save(\"y_train.npy\", y_train)\n",
        "np.save(\"X_val.npy\", X_val)\n",
        "np.save(\"y_val.npy\", y_val)\n",
        "np.save(\"X_test.npy\", X_test)\n",
        "np.save(\"y_test.npy\", y_test)"
      ],
      "metadata": {
        "id": "NHwO6Ym1YSw_"
      },
      "execution_count": null,
      "outputs": []
    }
  ]
}